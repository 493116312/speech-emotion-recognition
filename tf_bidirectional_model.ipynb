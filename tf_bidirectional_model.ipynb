{
 "cells": [
  {
   "cell_type": "markdown",
   "metadata": {
    "colab_type": "text",
    "id": "6DCYVzzm0N5i"
   },
   "source": [
    "# Importing libraries"
   ]
  },
  {
   "cell_type": "code",
   "execution_count": 0,
   "metadata": {
    "colab": {
     "autoexec": {
      "startup": false,
      "wait_interval": 0
     }
    },
    "colab_type": "code",
    "collapsed": true,
    "id": "hPh2NX7Xy2f1"
   },
   "outputs": [],
   "source": [
    "import pandas as pd\n",
    "import numpy as np\n",
    "import gzip\n",
    "import pickle\n",
    "import matplotlib.pyplot as plt\n",
    "import seaborn as sns\n",
    "from sklearn.model_selection import train_test_split\n",
    "\n",
    "import tensorflow as tf\n",
    "from tensorflow.python.ops import rnn, rnn_cell\n",
    "from tensorflow.contrib.rnn import stack_bidirectional_dynamic_rnn\n",
    "\n",
    "%matplotlib inline\n",
    "\n",
    "tf.set_random_seed(1234)\n",
    "np.random.seed(1234)"
   ]
  },
  {
   "cell_type": "markdown",
   "metadata": {
    "colab_type": "text",
    "id": "3PCnjnFC0RLJ"
   },
   "source": [
    "# Reading Data file"
   ]
  },
  {
   "cell_type": "code",
   "execution_count": 0,
   "metadata": {
    "colab": {
     "autoexec": {
      "startup": false,
      "wait_interval": 0
     }
    },
    "colab_type": "code",
    "collapsed": true,
    "id": "Em1cOQxpzYLy"
   },
   "outputs": [],
   "source": [
    "with gzip.open(\"file_name\", 'rb') as ifp:\n",
    "    df = pickle.load(ifp)"
   ]
  },
  {
   "cell_type": "code",
   "execution_count": 6,
   "metadata": {
    "colab": {
     "autoexec": {
      "startup": false,
      "wait_interval": 0
     },
     "base_uri": "https://localhost:8080/",
     "height": 473,
     "output_extras": [
      {
       "item_id": 1
      },
      {
       "item_id": 2
      },
      {
       "item_id": 3
      }
     ]
    },
    "colab_type": "code",
    "collapsed": false,
    "executionInfo": {
     "elapsed": 3258,
     "status": "ok",
     "timestamp": 1520507369831,
     "user": {
      "displayName": "Aman Agarwal",
      "photoUrl": "//lh6.googleusercontent.com/-LJqnm0_XO_I/AAAAAAAAAAI/AAAAAAAAAVs/8jwhPwCDbUU/s50-c-k-no/photo.jpg",
      "userId": "104684234709192293357"
     },
     "user_tz": -330
    },
    "id": "DbbD2CMx0OTL",
    "outputId": "d29da7e7-9245-456e-b506-792efdcf298a"
   },
   "outputs": [
    {
     "name": "stdout",
     "output_type": "stream",
     "text": [
      "                                                MFCC                 name Label  lengths\n",
      "0  [[17.178007859968, 6.6467205680758585, -17.290...  Ses01M_impro01_F022   ang     1068\n",
      "1  [[14.600711836560647, 7.653237680037131, -4.85...  Ses01M_impro01_M003   neu      247\n",
      "2  [[12.207307357324005, -0.05423970880662275, -9...  Ses01M_impro01_M017   fru      272\n",
      "3  [[13.49571431766749, -3.7515978564356445, -4.0...  Ses01M_impro01_M016   fru      210\n",
      "4  [[15.200732369996961, -23.793255016290864, -21...  Ses01M_impro01_M002   fru      310\n",
      "\n",
      "Total Data size: 7028\n",
      "Male Samples: 3666\n",
      "Female Samples: 3362\n",
      "\n",
      "Emotion-wise samples\n"
     ]
    },
    {
     "data": {
      "image/png": "[encoded data removed]",
      "text/plain": [
       "<matplotlib.figure.Figure at 0x7f7169c7f198>"
      ]
     },
     "metadata": {
      "tags": []
     },
     "output_type": "display_data"
    },
    {
     "data": {
      "text/plain": [
       "array(['ang', 'exc', 'fru', 'hap', 'neu', 'sad'], dtype=object)"
      ]
     },
     "execution_count": 6,
     "metadata": {
      "tags": []
     },
     "output_type": "execute_result"
    }
   ],
   "source": [
    "pd.set_option('display.width', 100)\n",
    "print(df.head())\n",
    "\n",
    "df.reset_index(inplace=True)\n",
    "df.drop('index', inplace=True, axis=1)\n",
    "\n",
    "male = 0\n",
    "female = 0\n",
    "for index, row in df['name'].iteritems():\n",
    "    if row[-4] == 'F':\n",
    "        female +=1\n",
    "    else:\n",
    "        male +=1\n",
    "        \n",
    "print('\\nTotal Data size:', df.shape[0])\n",
    "print('Male Samples:', male)\n",
    "print('Female Samples:', female)\n",
    "print('\\nEmotion-wise samples')\n",
    "\n",
    "emo_name = []\n",
    "emo_number = []\n",
    "for i in df['Label'].unique():\n",
    "    emo_name.append(i)\n",
    "    emo_number.append(np.sum(df['Label'] == i))\n",
    "plt.pie(emo_number, labels=emo_name, colors=['gold', 'yellowgreen', 'lightcoral', 'lightskyblue', 'red', 'olive'],\n",
    "        autopct='%1.1f%%', shadow=True, startangle=140)\n",
    "plt.axis('equal')\n",
    "plt.show()\n",
    "    \n",
    "le = LabelEncoder()\n",
    "le.fit(df['Label'].values)\n",
    "le.classes_"
   ]
  },
  {
   "cell_type": "markdown",
   "metadata": {
    "colab_type": "text",
    "id": "lQk8X8Kcz8XC"
   },
   "source": [
    "# Splitting Data"
   ]
  },
  {
   "cell_type": "code",
   "execution_count": 14,
   "metadata": {
    "colab": {
     "autoexec": {
      "startup": false,
      "wait_interval": 0
     },
     "base_uri": "https://localhost:8080/",
     "height": 51,
     "output_extras": [
      {
       "item_id": 1
      }
     ]
    },
    "colab_type": "code",
    "collapsed": false,
    "executionInfo": {
     "elapsed": 3637,
     "status": "ok",
     "timestamp": 1520507822699,
     "user": {
      "displayName": "Aman Agarwal",
      "photoUrl": "//lh6.googleusercontent.com/-LJqnm0_XO_I/AAAAAAAAAAI/AAAAAAAAAVs/8jwhPwCDbUU/s50-c-k-no/photo.jpg",
      "userId": "104684234709192293357"
     },
     "user_tz": -330
    },
    "id": "IdCkn0qdc24b",
    "outputId": "cb0f5d34-93a4-4dcc-8cd0-15c2ad8edb3b"
   },
   "outputs": [
    {
     "name": "stdout",
     "output_type": "stream",
     "text": [
      "training set examples 5973\n",
      "test set examples 1055\n"
     ]
    }
   ],
   "source": [
    "df_train, df_test = train_test_split(df, test_size=0.15, random_state=0)\n",
    "print('training samples:', df_train.shape[0])\n",
    "print('test samples:', df_test.shape[0])"
   ]
  },
  {
   "cell_type": "markdown",
   "metadata": {
    "colab_type": "text",
    "id": "lmpNxk_d0jHg"
   },
   "source": [
    "# Bucket Iterator"
   ]
  },
  {
   "cell_type": "code",
   "execution_count": 0,
   "metadata": {
    "colab": {
     "autoexec": {
      "startup": false,
      "wait_interval": 0
     }
    },
    "colab_type": "code",
    "collapsed": true,
    "id": "3N6d-tpu0RkP"
   },
   "outputs": [],
   "source": [
    "class BucketedDataIterator():\n",
    "    def __init__(self, df, num_buckets = 14):\n",
    "        df = df.sort_values('lengths').reset_index(drop=True)\n",
    "        self.size = len(df) / num_buckets\n",
    "        self.dfs = []\n",
    "        for bucket in range(num_buckets):\n",
    "            self.dfs.append(df.loc[bucket*self.size: (bucket+1)*self.size - 1])\n",
    "        self.num_buckets = num_buckets\n",
    "\n",
    "        # cursor[i] will be the cursor for the ith bucket\n",
    "        self.cursor = np.array([0] * num_buckets)\n",
    "        self.shuffle()\n",
    "\n",
    "        self.epochs = 0\n",
    "\n",
    "    def shuffle(self):\n",
    "        #sorts dataframe by sequence length, but keeps it random within the same length\n",
    "        for i in range(self.num_buckets):\n",
    "            self.dfs[i] = self.dfs[i].sample(frac=1).reset_index(drop=True)\n",
    "            self.cursor[i] = 0\n",
    "\n",
    "    def next_batch(self, n):\n",
    "        if np.any(self.cursor+n+1 > self.size):\n",
    "            self.epochs += 1\n",
    "            self.shuffle()\n",
    "\n",
    "        i = np.random.randint(0,self.num_buckets)\n",
    "\n",
    "        res = self.dfs[i].loc[self.cursor[i]:self.cursor[i]+n-1]\n",
    "        self.cursor[i] += n\n",
    "\n",
    "        # Pad sequences with 0s so they are all the same length\n",
    "        maxlen = int(max(res['lengths']))\n",
    "        \n",
    "        x = np.zeros([n, maxlen, 20], dtype=np.float)\n",
    "        for i, x_i in enumerate(x):\n",
    "            x_i[:res['lengths'].values[i]] = res['MFCC'].values[i]\n",
    "\n",
    "        return x, le.transform(res['Label'].values), res['lengths']"
   ]
  },
  {
   "cell_type": "code",
   "execution_count": 9,
   "metadata": {
    "colab": {
     "autoexec": {
      "startup": false,
      "wait_interval": 0
     },
     "base_uri": "https://localhost:8080/",
     "height": 170,
     "output_extras": [
      {
       "item_id": 1
      }
     ]
    },
    "colab_type": "code",
    "collapsed": false,
    "executionInfo": {
     "elapsed": 937,
     "status": "ok",
     "timestamp": 1520507383663,
     "user": {
      "displayName": "Aman Agarwal",
      "photoUrl": "//lh6.googleusercontent.com/-LJqnm0_XO_I/AAAAAAAAAAI/AAAAAAAAAVs/8jwhPwCDbUU/s50-c-k-no/photo.jpg",
      "userId": "104684234709192293357"
     },
     "user_tz": -330
    },
    "id": "kWRtTzhv0R78",
    "outputId": "fdc3cadf-1229-4a48-8d19-59ca1d0b2e65"
   },
   "outputs": [
    {
     "name": "stdout",
     "output_type": "stream",
     "text": [
      "X shape: (128, 391, 20)\n",
      "Target: [2 4 2 0 5]\n",
      "Sequence length:\n",
      " 0    359\n",
      "1    370\n",
      "2    379\n",
      "3    359\n",
      "4    363\n",
      "Name: lengths, dtype: int64\n"
     ]
    }
   ],
   "source": [
    "tr = BucketedDataIterator(df)\n",
    "mini_batch = tr.next_batch(128)\n",
    "X = mini_batch[0]\n",
    "y = mini_batch[1]\n",
    "seqlen = mini_batch[2]\n",
    "print('X shape:', X.shape)\n",
    "print('Target:', y[:5])\n",
    "print('Sequence length:\\n', seqlen[:5])"
   ]
  },
  {
   "cell_type": "markdown",
   "metadata": {
    "colab_type": "text",
    "id": "hdAzITtF0n_r"
   },
   "source": [
    "# Tensorflow Models"
   ]
  },
  {
   "cell_type": "code",
   "execution_count": 0,
   "metadata": {
    "colab": {
     "autoexec": {
      "startup": false,
      "wait_interval": 0
     }
    },
    "colab_type": "code",
    "collapsed": true,
    "id": "uIMmqU1G0TuO"
   },
   "outputs": [],
   "source": [
    "# some hyperparameters\n",
    "hm_epochs = 100\n",
    "n_classes = 6\n",
    "batch_size = 128\n",
    "learning_rate = 0.01\n",
    "num_mfcc_features = 20\n",
    "rnn_size = 128\n",
    "dropout = 0.8\n",
    "\n",
    "# resets tensorflow graph\n",
    "def reset_graph():\n",
    "    if 'sess' in globals() and sess:\n",
    "        sess.close()\n",
    "    tf.reset_default_graph()\n",
    "\n",
    "# model graph\n",
    "def rnn_model():\n",
    "    \n",
    "    # resets the previous graph\n",
    "    reset_graph()\n",
    "\n",
    "    # defining placeholders\n",
    "    x = tf.placeholder(tf.float32,[batch_size, None, num_mfcc_features])\n",
    "    y = tf.placeholder(tf.int32, [batch_size])\n",
    "    seq_length = tf.placeholder(tf.int32, [batch_size])\n",
    "    keep_prob = tf.placeholder(tf.float32)\n",
    "  \n",
    "    layer = {'weights':tf.Variable(tf.random_normal([rnn_size*2, n_classes])),\n",
    "            'biases':tf.Variable(tf.random_normal([n_classes]))}\n",
    "        \n",
    "    # single RNN layer\n",
    "    lstm_fw_cell = rnn_cell.BasicLSTMCell(rnn_size)\n",
    "    lstm_bw_cell = rnn_cell.BasicLSTMCell(rnn_size)\n",
    "    rnn_outputs, final_state_fw, final_state_bw = stack_bidirectional_dynamic_rnn([lstm_fw_cell], [lstm_bw_cell], x, dtype=tf.float32, sequence_length=seq_length)\n",
    "   \n",
    "    rnn_outputs = tf.nn.dropout(rnn_outputs, keep_prob)\n",
    "    \n",
    "    # stacking the outputs of all time frames\n",
    "    last_rnn_output = tf.gather_nd(rnn_outputs, tf.stack([tf.range(batch_size), seq_length-1], axis=1))\n",
    "    \n",
    "    output = tf.add(tf.matmul(last_rnn_output, layer['weights']), layer['biases'])\n",
    "    \n",
    "    # predicting labels\n",
    "    preds = tf.nn.softmax(output)\n",
    "    \n",
    "    # calculating accuracy\n",
    "    correct = tf.equal(tf.argmax(preds,1), tf.argmax(tf.one_hot(y,6),1))\n",
    "    accuracy = tf.reduce_mean(tf.cast(correct, tf.float32))\n",
    "\n",
    "    # calculating loss\n",
    "    cost = tf.reduce_mean(tf.nn.softmax_cross_entropy_with_logits_v2(logits=output, labels=tf.one_hot(y,6)))\n",
    "\n",
    "    # adding optimizer\n",
    "    optimizer = tf.train.AdamOptimizer(learning_rate).minimize(cost)\n",
    "\n",
    "    return {'x': x, 'seqlen': seq_length, 'y': y, 'loss': cost, 'preds': preds, 'accuracy': accuracy, 'dropout': keep_prob, 'optimizer': optimizer}\n",
    "  \n",
    "def train_model(graph):\n",
    "    with tf.Session() as sess:\n",
    "        sess.run(tf.global_variables_initializer())\n",
    "        tr = BucketedDataIterator(df)\n",
    "        te = BucketedDataIterator(df)\n",
    "\n",
    "        step, accuracy, loss = 0, 0, 0\n",
    "        tr_acc, te_acc, tr_loss, te_loss = [], [], [], []\n",
    "        current_epoch = 0\n",
    "        while current_epoch < hm_epochs:\n",
    "            step += 1\n",
    "            mini_batch = tr.next_batch(batch_size)\n",
    "            _, accuracy_, loss_ = sess.run([graph['optimizer'], graph['accuracy'], graph['loss']], feed_dict = {graph['x']: mini_batch[0], graph['y']: mini_batch[1], \n",
    "                                                                        graph['seqlen']: mini_batch[2], graph['dropout']: dropout})\n",
    "            accuracy += accuracy_\n",
    "            loss += loss_ \n",
    "            \n",
    "            if tr.epochs > current_epoch:\n",
    "                current_epoch += 1\n",
    "                tr_acc.append(accuracy / step)\n",
    "                tr_loss.append(loss / step)\n",
    "                step, accuracy, loss = 0, 0, 0\n",
    "\n",
    "                #eval test set\n",
    "                te_epoch = te.epochs\n",
    "                while te.epochs == te_epoch:\n",
    "                    step += 1\n",
    "                    mini_batch = te.next_batch(batch_size)\n",
    "                    _, accuracy_, loss_ = sess.run([graph['optimizer'], graph['accuracy'], graph['loss']], feed_dict = {graph['x']: mini_batch[0], graph['y']: mini_batch[1], \n",
    "                                                                        graph['seqlen']: mini_batch[2], graph['dropout']: 1})\n",
    "                    accuracy += accuracy_\n",
    "                    loss += loss_\n",
    "\n",
    "                te_acc.append(accuracy / step)\n",
    "                te_loss.append(loss / step)\n",
    "                step, accuracy, loss = 0, 0, 0\n",
    "                \n",
    "                print(\"Epoch: %d/%d\\nloss: %0.4f - acc: %.4f - val_loss: %.4f - val_acc: %.4f\" % (current_epoch, hm_epochs, tr_loss[-1], tr_acc[-1], te_loss[-1], te_acc[-1]))\n",
    "\n",
    "    return tr_acc, tr_loss, te_acc, te_loss"
   ]
  },
  {
   "cell_type": "code",
   "execution_count": 24,
   "metadata": {
    "colab": {
     "autoexec": {
      "startup": false,
      "wait_interval": 0
     },
     "base_uri": "https://localhost:8080/",
     "height": 3417,
     "output_extras": [
      {
       "item_id": 50
      },
      {
       "item_id": 100
      }
     ]
    },
    "colab_type": "code",
    "collapsed": false,
    "executionInfo": {
     "elapsed": 2340036,
     "status": "ok",
     "timestamp": 1520511161664,
     "user": {
      "displayName": "Aman Agarwal",
      "photoUrl": "//lh6.googleusercontent.com/-LJqnm0_XO_I/AAAAAAAAAAI/AAAAAAAAAVs/8jwhPwCDbUU/s50-c-k-no/photo.jpg",
      "userId": "104684234709192293357"
     },
     "user_tz": -330
    },
    "id": "JPkHbAO20VrS",
    "outputId": "2055f1a6-7e9d-4a9c-8c17-2dd41bd0aa9c"
   },
   "outputs": [
    {
     "name": "stdout",
     "output_type": "stream",
     "text": [
      "Epoch: 1/100\n",
      "loss: 7.0778 - acc: 0.1905 - val_loss: 2.2739 - val_acc: 0.2510\n",
      "Epoch: 2/100\n",
      "loss: 2.6232 - acc: 0.1916 - val_loss: 1.8508 - val_acc: 0.2539\n",
      "Epoch: 3/100\n",
      "loss: 2.4311 - acc: 0.2156 - val_loss: 1.7539 - val_acc: 0.2859\n",
      "Epoch: 4/100\n",
      "loss: 2.3810 - acc: 0.1889 - val_loss: 1.6731 - val_acc: 0.3004\n",
      "Epoch: 5/100\n",
      "loss: 2.1895 - acc: 0.2270 - val_loss: 1.6927 - val_acc: 0.2824\n",
      "Epoch: 6/100\n",
      "loss: 2.0601 - acc: 0.2445 - val_loss: 1.7108 - val_acc: 0.2752\n",
      "Epoch: 7/100\n",
      "loss: 2.0521 - acc: 0.2127 - val_loss: 1.6852 - val_acc: 0.3089\n",
      "Epoch: 8/100\n",
      "loss: 2.0303 - acc: 0.2383 - val_loss: 1.6104 - val_acc: 0.3203\n",
      "Epoch: 9/100\n",
      "loss: 1.9245 - acc: 0.2565 - val_loss: 1.6537 - val_acc: 0.3299\n",
      "Epoch: 10/100\n",
      "loss: 1.8893 - acc: 0.2715 - val_loss: 1.5959 - val_acc: 0.3352\n",
      "Epoch: 11/100\n",
      "loss: 1.7957 - acc: 0.3078 - val_loss: 1.6187 - val_acc: 0.3175\n",
      "Epoch: 12/100\n",
      "loss: 1.8005 - acc: 0.3099 - val_loss: 1.5166 - val_acc: 0.3781\n",
      "Epoch: 13/100\n",
      "loss: 1.8316 - acc: 0.2587 - val_loss: 1.5472 - val_acc: 0.3550\n",
      "Epoch: 14/100\n",
      "loss: 1.7731 - acc: 0.3025 - val_loss: 1.5379 - val_acc: 0.3582\n",
      "Epoch: 15/100\n",
      "loss: 1.6958 - acc: 0.3162 - val_loss: 1.4969 - val_acc: 0.3934\n",
      "Epoch: 16/100\n",
      "loss: 1.7611 - acc: 0.2734 - val_loss: 1.4952 - val_acc: 0.3873\n",
      "Epoch: 17/100\n",
      "loss: 1.6841 - acc: 0.3231 - val_loss: 1.4928 - val_acc: 0.3963\n",
      "Epoch: 18/100\n",
      "loss: 1.6793 - acc: 0.3229 - val_loss: 1.4574 - val_acc: 0.4172\n",
      "Epoch: 19/100\n",
      "loss: 1.6104 - acc: 0.3411 - val_loss: 1.4751 - val_acc: 0.3931\n",
      "Epoch: 20/100\n",
      "loss: 1.6453 - acc: 0.3301 - val_loss: 1.4348 - val_acc: 0.4245\n",
      "Epoch: 21/100\n",
      "loss: 1.6409 - acc: 0.3401 - val_loss: 1.5025 - val_acc: 0.3811\n",
      "Epoch: 22/100\n",
      "loss: 1.5691 - acc: 0.3568 - val_loss: 1.4493 - val_acc: 0.4056\n",
      "Epoch: 23/100\n",
      "loss: 1.5787 - acc: 0.3656 - val_loss: 1.4366 - val_acc: 0.4141\n",
      "Epoch: 24/100\n",
      "loss: 1.5492 - acc: 0.3521 - val_loss: 1.4688 - val_acc: 0.4019\n",
      "Epoch: 25/100\n",
      "loss: 1.5161 - acc: 0.3773 - val_loss: 1.3884 - val_acc: 0.4236\n",
      "Epoch: 26/100\n",
      "loss: 1.5628 - acc: 0.3651 - val_loss: 1.4242 - val_acc: 0.4236\n",
      "Epoch: 27/100\n",
      "loss: 1.5640 - acc: 0.3633 - val_loss: 1.4813 - val_acc: 0.3961\n",
      "Epoch: 28/100\n",
      "loss: 1.5381 - acc: 0.3914 - val_loss: 1.4193 - val_acc: 0.4189\n",
      "Epoch: 29/100\n",
      "loss: 1.5251 - acc: 0.3688 - val_loss: 1.4106 - val_acc: 0.4438\n",
      "Epoch: 30/100\n",
      "loss: 1.5373 - acc: 0.3786 - val_loss: 1.3845 - val_acc: 0.4521\n",
      "Epoch: 31/100\n",
      "loss: 1.5123 - acc: 0.3612 - val_loss: 1.4067 - val_acc: 0.4467\n",
      "Epoch: 32/100\n",
      "loss: 1.5138 - acc: 0.3806 - val_loss: 1.3725 - val_acc: 0.4453\n",
      "Epoch: 33/100\n",
      "loss: 1.5081 - acc: 0.3865 - val_loss: 1.3956 - val_acc: 0.4414\n",
      "Epoch: 34/100\n",
      "loss: 1.5319 - acc: 0.3680 - val_loss: 1.3949 - val_acc: 0.4321\n",
      "Epoch: 35/100\n",
      "loss: 1.4633 - acc: 0.3734 - val_loss: 1.4058 - val_acc: 0.4385\n",
      "Epoch: 36/100\n",
      "loss: 1.4872 - acc: 0.3945 - val_loss: 1.3814 - val_acc: 0.4465\n",
      "Epoch: 37/100\n",
      "loss: 1.4985 - acc: 0.3834 - val_loss: 1.3229 - val_acc: 0.4814\n",
      "Epoch: 38/100\n",
      "loss: 1.4644 - acc: 0.3960 - val_loss: 1.3840 - val_acc: 0.4473\n",
      "Epoch: 39/100\n",
      "loss: 1.4423 - acc: 0.3964 - val_loss: 1.3469 - val_acc: 0.4721\n",
      "Epoch: 40/100\n",
      "loss: 1.4478 - acc: 0.4099 - val_loss: 1.3641 - val_acc: 0.4732\n",
      "Epoch: 41/100\n",
      "loss: 1.4161 - acc: 0.4317 - val_loss: 1.3463 - val_acc: 0.4632\n",
      "Epoch: 42/100\n",
      "loss: 1.4792 - acc: 0.3878 - val_loss: 1.3234 - val_acc: 0.4680\n",
      "Epoch: 43/100\n",
      "loss: 1.4311 - acc: 0.4094 - val_loss: 1.3994 - val_acc: 0.4055\n",
      "Epoch: 44/100\n",
      "loss: 1.4060 - acc: 0.4089 - val_loss: 1.3933 - val_acc: 0.4499\n",
      "Epoch: 45/100\n",
      "loss: 1.4638 - acc: 0.3929 - val_loss: 1.3290 - val_acc: 0.4565\n",
      "Epoch: 46/100\n",
      "loss: 1.3872 - acc: 0.4492 - val_loss: 1.2759 - val_acc: 0.4941\n",
      "Epoch: 47/100\n",
      "loss: 1.3927 - acc: 0.4327 - val_loss: 1.3675 - val_acc: 0.4505\n",
      "Epoch: 48/100\n",
      "loss: 1.3731 - acc: 0.4619 - val_loss: 1.3000 - val_acc: 0.4849\n",
      "Epoch: 49/100\n",
      "loss: 1.3943 - acc: 0.4230 - val_loss: 1.2985 - val_acc: 0.4792\n",
      "Epoch: 50/100\n",
      "loss: 1.4069 - acc: 0.4369 - val_loss: 1.3100 - val_acc: 0.4760\n",
      "Epoch: 51/100\n",
      "loss: 1.4332 - acc: 0.4167 - val_loss: 1.2954 - val_acc: 0.5029\n",
      "Epoch: 52/100\n",
      "loss: 1.3075 - acc: 0.4758 - val_loss: 1.3465 - val_acc: 0.4585\n",
      "Epoch: 53/100\n",
      "loss: 1.3696 - acc: 0.4414 - val_loss: 1.2768 - val_acc: 0.4996\n",
      "Epoch: 54/100\n",
      "loss: 1.3716 - acc: 0.4500 - val_loss: 1.2223 - val_acc: 0.5134\n",
      "Epoch: 55/100\n",
      "loss: 1.3539 - acc: 0.4439 - val_loss: 1.3081 - val_acc: 0.4831\n",
      "Epoch: 56/100\n",
      "loss: 1.4003 - acc: 0.4283 - val_loss: 1.2898 - val_acc: 0.4849\n",
      "Epoch: 57/100\n",
      "loss: 1.3758 - acc: 0.4590 - val_loss: 1.3119 - val_acc: 0.4754\n",
      "Epoch: 58/100\n",
      "loss: 1.3658 - acc: 0.4641 - val_loss: 1.2946 - val_acc: 0.4863\n",
      "Epoch: 59/100\n",
      "loss: 1.3312 - acc: 0.4740 - val_loss: 1.2946 - val_acc: 0.4830\n",
      "Epoch: 60/100\n",
      "loss: 1.3408 - acc: 0.4658 - val_loss: 1.3068 - val_acc: 0.4629\n",
      "Epoch: 61/100\n",
      "loss: 1.3255 - acc: 0.4712 - val_loss: 1.3080 - val_acc: 0.4902\n",
      "Epoch: 62/100\n",
      "loss: 1.3826 - acc: 0.4474 - val_loss: 1.2336 - val_acc: 0.5122\n",
      "Epoch: 63/100\n",
      "loss: 1.3909 - acc: 0.4158 - val_loss: 1.2263 - val_acc: 0.5151\n",
      "Epoch: 64/100\n",
      "loss: 1.2931 - acc: 0.4557 - val_loss: 1.2182 - val_acc: 0.5225\n",
      "Epoch: 65/100\n",
      "loss: 1.3348 - acc: 0.4598 - val_loss: 1.2157 - val_acc: 0.5016\n",
      "Epoch: 66/100\n",
      "loss: 1.3453 - acc: 0.4556 - val_loss: 1.2288 - val_acc: 0.5342\n",
      "Epoch: 67/100\n",
      "loss: 1.3170 - acc: 0.4710 - val_loss: 1.2131 - val_acc: 0.5280\n",
      "Epoch: 68/100\n",
      "loss: 1.3727 - acc: 0.4479 - val_loss: 1.1885 - val_acc: 0.5437\n",
      "Epoch: 69/100\n",
      "loss: 1.3493 - acc: 0.4570 - val_loss: 1.2519 - val_acc: 0.5095\n",
      "Epoch: 70/100\n",
      "loss: 1.3201 - acc: 0.4701 - val_loss: 1.2304 - val_acc: 0.5255\n",
      "Epoch: 71/100\n",
      "loss: 1.3235 - acc: 0.4683 - val_loss: 1.2464 - val_acc: 0.5042\n",
      "Epoch: 72/100\n",
      "loss: 1.3721 - acc: 0.4388 - val_loss: 1.1840 - val_acc: 0.5457\n",
      "Epoch: 73/100\n",
      "loss: 1.3270 - acc: 0.4505 - val_loss: 1.1990 - val_acc: 0.5266\n",
      "Epoch: 74/100\n",
      "loss: 1.2998 - acc: 0.4858 - val_loss: 1.2135 - val_acc: 0.5279\n",
      "Epoch: 75/100\n",
      "loss: 1.2906 - acc: 0.4707 - val_loss: 1.2033 - val_acc: 0.5347\n",
      "Epoch: 76/100\n",
      "loss: 1.3191 - acc: 0.4780 - val_loss: 1.1754 - val_acc: 0.5531\n",
      "Epoch: 77/100\n",
      "loss: 1.3162 - acc: 0.4590 - val_loss: 1.2070 - val_acc: 0.5100\n",
      "Epoch: 78/100\n",
      "loss: 1.3043 - acc: 0.4740 - val_loss: 1.1960 - val_acc: 0.5326\n",
      "Epoch: 79/100\n",
      "loss: 1.2701 - acc: 0.4849 - val_loss: 1.2004 - val_acc: 0.5234\n",
      "Epoch: 80/100\n",
      "loss: 1.2739 - acc: 0.4967 - val_loss: 1.1963 - val_acc: 0.5477\n",
      "Epoch: 81/100\n",
      "loss: 1.2819 - acc: 0.4989 - val_loss: 1.1188 - val_acc: 0.5680\n",
      "Epoch: 82/100\n",
      "loss: 1.2871 - acc: 0.4830 - val_loss: 1.1870 - val_acc: 0.5320\n",
      "Epoch: 83/100\n",
      "loss: 1.3443 - acc: 0.4472 - val_loss: 1.2551 - val_acc: 0.5273\n",
      "Epoch: 84/100\n",
      "loss: 1.2986 - acc: 0.4731 - val_loss: 1.1539 - val_acc: 0.5555\n",
      "Epoch: 85/100\n",
      "loss: 1.3368 - acc: 0.4805 - val_loss: 1.1826 - val_acc: 0.5288\n",
      "Epoch: 86/100\n",
      "loss: 1.2543 - acc: 0.4992 - val_loss: 1.1361 - val_acc: 0.5592\n",
      "Epoch: 87/100\n",
      "loss: 1.3083 - acc: 0.4738 - val_loss: 1.1862 - val_acc: 0.5424\n",
      "Epoch: 88/100\n",
      "loss: 1.2928 - acc: 0.4867 - val_loss: 1.1912 - val_acc: 0.5288\n",
      "Epoch: 89/100\n",
      "loss: 1.2849 - acc: 0.4789 - val_loss: 1.1592 - val_acc: 0.5352\n",
      "Epoch: 90/100\n",
      "loss: 1.2730 - acc: 0.4897 - val_loss: 1.1367 - val_acc: 0.5677\n",
      "Epoch: 91/100\n",
      "loss: 1.2414 - acc: 0.4942 - val_loss: 1.1464 - val_acc: 0.5501\n",
      "Epoch: 92/100\n",
      "loss: 1.1967 - acc: 0.5156 - val_loss: 1.1280 - val_acc: 0.5521\n",
      "Epoch: 93/100\n",
      "loss: 1.2564 - acc: 0.5143 - val_loss: 1.1899 - val_acc: 0.5280\n",
      "Epoch: 94/100\n",
      "loss: 1.2660 - acc: 0.4948 - val_loss: 1.1069 - val_acc: 0.5656\n",
      "Epoch: 95/100\n",
      "loss: 1.2313 - acc: 0.5062 - val_loss: 1.0850 - val_acc: 0.5636\n",
      "Epoch: 96/100\n",
      "loss: 1.2442 - acc: 0.5060 - val_loss: 1.0965 - val_acc: 0.5732\n",
      "Epoch: 97/100\n",
      "loss: 1.2331 - acc: 0.5208 - val_loss: 1.1328 - val_acc: 0.5620\n",
      "Epoch: 98/100\n",
      "loss: 1.2303 - acc: 0.5228 - val_loss: 1.0657 - val_acc: 0.5955\n",
      "Epoch: 99/100\n",
      "loss: 1.1935 - acc: 0.5178 - val_loss: 1.1081 - val_acc: 0.5787\n",
      "Epoch: 100/100\n",
      "loss: 1.2562 - acc: 0.5263 - val_loss: 1.1501 - val_acc: 0.5617\n"
     ]
    }
   ],
   "source": [
    "g = rnn_model()\n",
    "tr_acc, tr_loss, te_acc, te_loss = train_model(g)"
   ]
  },
  {
   "cell_type": "code",
   "execution_count": 25,
   "metadata": {
    "colab": {
     "autoexec": {
      "startup": false,
      "wait_interval": 0
     },
     "base_uri": "https://localhost:8080/",
     "height": 571,
     "output_extras": [
      {
       "item_id": 1
      },
      {
       "item_id": 2
      }
     ]
    },
    "colab_type": "code",
    "collapsed": false,
    "executionInfo": {
     "elapsed": 2233,
     "status": "ok",
     "timestamp": 1520511171650,
     "user": {
      "displayName": "Aman Agarwal",
      "photoUrl": "//lh6.googleusercontent.com/-LJqnm0_XO_I/AAAAAAAAAAI/AAAAAAAAAVs/8jwhPwCDbUU/s50-c-k-no/photo.jpg",
      "userId": "104684234709192293357"
     },
     "user_tz": -330
    },
    "id": "rPPOLfo6V8Ya",
    "outputId": "94722f08-0423-42e9-93a8-c5480bb02ea7"
   },
   "outputs": [
    {
     "data": {
      "image/png": "[encoded data removed]",
      "text/plain": [
       "<matplotlib.figure.Figure at 0x7f70d0074f98>"
      ]
     },
     "metadata": {
      "tags": []
     },
     "output_type": "display_data"
    },
    {
     "data": {
      "image/png": "[encoded data removed]",
      "text/plain": [
       "<matplotlib.figure.Figure at 0x7f70d00a2d30>"
      ]
     },
     "metadata": {
      "tags": []
     },
     "output_type": "display_data"
    }
   ],
   "source": [
    "# summarize history for accuracy\n",
    "plt.plot(np.arange(len(tr_acc)), tr_acc)\n",
    "plt.plot(np.arange(len(tr_acc)), te_acc)\n",
    "plt.title('model accuracy')\n",
    "plt.ylabel('accuracy')\n",
    "plt.xlabel('epoch')\n",
    "plt.legend(['train', 'test'], loc='upper left')\n",
    "plt.show()\n",
    "# summarize history for loss\n",
    "plt.plot(np.arange(len(tr_loss)), tr_loss)\n",
    "plt.plot(np.arange(len(tr_loss)), te_loss)\n",
    "plt.title('model loss')\n",
    "plt.ylabel('loss')\n",
    "plt.xlabel('epoch')\n",
    "plt.legend(['train', 'test'], loc='upper left')\n",
    "plt.show()"
   ]
  },
  {
   "cell_type": "code",
   "execution_count": 0,
   "metadata": {
    "colab": {
     "autoexec": {
      "startup": false,
      "wait_interval": 0
     }
    },
    "colab_type": "code",
    "collapsed": true,
    "id": "icQF0S64Z0vd"
   },
   "outputs": [],
   "source": []
  }
 ],
 "metadata": {
  "accelerator": "GPU",
  "colab": {
   "collapsed_sections": [],
   "default_view": {},
   "name": "speech_emotion.ipynb",
   "provenance": [],
   "version": "0.3.2",
   "views": {}
  },
  "kernelspec": {
   "display_name": "Python 3",
   "language": "python",
   "name": "python3"
  },
  "language_info": {
   "codemirror_mode": {
    "name": "ipython",
    "version": 3
   },
   "file_extension": ".py",
   "mimetype": "text/x-python",
   "name": "python",
   "nbconvert_exporter": "python",
   "pygments_lexer": "ipython3",
   "version": "3.6.0"
  }
 },
 "nbformat": 4,
 "nbformat_minor": 0
}
